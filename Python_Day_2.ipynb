{
  "nbformat": 4,
  "nbformat_minor": 0,
  "metadata": {
    "colab": {
      "provenance": [],
      "authorship_tag": "ABX9TyMRyd/gsh9ksdGP0oyZMkg+",
      "include_colab_link": true
    },
    "kernelspec": {
      "name": "python3",
      "display_name": "Python 3"
    },
    "language_info": {
      "name": "python"
    }
  },
  "cells": [
    {
      "cell_type": "markdown",
      "metadata": {
        "id": "view-in-github",
        "colab_type": "text"
      },
      "source": [
        "<a href=\"https://colab.research.google.com/github/Ruban35/Python_1/blob/main/Python_Day_2.ipynb\" target=\"_parent\"><img src=\"https://colab.research.google.com/assets/colab-badge.svg\" alt=\"Open In Colab\"/></a>"
      ]
    },
    {
      "cell_type": "markdown",
      "source": [
        "1. Write a program to calculate Employee’s bonus calculation for the details given below\n",
        "\n",
        "[Experience:\tBonus (%)]\n",
        "\n",
        "[More than 8 years:\t10 %]\n",
        "\n",
        "[More than 4 years:\t7%]\n",
        "\n",
        "[More than 2 years:\t4%]"
      ],
      "metadata": {
        "id": "dAnpC9YlK3Qf"
      }
    },
    {
      "cell_type": "code",
      "source": [
        "experience = int(input(\"Enter the experience: \"))\n",
        "salary = float(input(\"Enter the salary: \"))\n",
        "if experience < 0 or salary < 0:\n",
        "    print(\"Experience and salary cannot be negative.\")\n",
        "else:\n",
        "    if experience > 8:\n",
        "        bonus_percentage = 10\n",
        "    elif experience > 4:\n",
        "        bonus_percentage = 7\n",
        "    elif experience > 2:\n",
        "        bonus_percentage = 4\n",
        "    else:\n",
        "        bonus_percentage = 0\n",
        "    bonus_amount = (bonus_percentage / 100) * salary\n",
        "    total_salary = salary + bonus_amount\n",
        "    print(\"Years of Experience:\", experience)\n",
        "    print(\"Original Salary:\", salary)\n",
        "    print(\"Bonus Percentage:\", bonus_percentage, \"%\")\n",
        "    print(\"Bonus Amount: {:.2f}\".format(bonus_amount))\n",
        "    print(\"Total Salary:\", total_salary)"
      ],
      "metadata": {
        "colab": {
          "base_uri": "https://localhost:8080/"
        },
        "id": "pwLl2n6tK9Si",
        "outputId": "d6f8ae07-ff53-462e-c026-a9413a7c155c"
      },
      "execution_count": 1,
      "outputs": [
        {
          "output_type": "stream",
          "name": "stdout",
          "text": [
            "Enter the experience: 8\n",
            "Enter the salary: 100000\n",
            "Years of Experience: 8\n",
            "Original Salary: 100000.0\n",
            "Bonus Percentage: 7 %\n",
            "Bonus Amount: 7000.00\n",
            "Total Salary: 107000.0\n"
          ]
        }
      ]
    },
    {
      "cell_type": "markdown",
      "source": [
        "2. Write a program to calculate the electricity bill (accept number of units from user) according to the following criteria:\n",
        "\n",
        "[Units:\tPrice]\n",
        "\n",
        "[First 100 units:\tNo charge]\n",
        "\n",
        "[Next 100 units:\tRs.5 per unit]\n",
        "\n",
        "[After 200 units:\tRs.10 per unit]\n"
      ],
      "metadata": {
        "id": "FBGFFZ9VLHy4"
      }
    },
    {
      "cell_type": "code",
      "source": [
        "units = float(input(\"Enter the units: \"))\n",
        "if units < 0:\n",
        "    print(\"Units cannot be negative.\")\n",
        "else:\n",
        "    if units <= 100:\n",
        "        bill_amount = 0\n",
        "    elif units <= 200:\n",
        "        bill_amount = (units - 100) * 5\n",
        "    else:\n",
        "        bill_amount = 500 + (units - 200) * 10\n",
        "    print(\"Units consumed:\", units, \"units\")\n",
        "    print(\"Electricity bill amount:\", bill_amount, \"Rupees\")"
      ],
      "metadata": {
        "colab": {
          "base_uri": "https://localhost:8080/"
        },
        "id": "qB-4Ncx8LKji",
        "outputId": "ca6edefc-ae71-47ed-f848-205a548d1870"
      },
      "execution_count": 2,
      "outputs": [
        {
          "output_type": "stream",
          "name": "stdout",
          "text": [
            "Enter the units: 250\n",
            "Units consumed: 250.0 units\n",
            "Electricity bill amount: 1000.0 Rupees\n"
          ]
        }
      ]
    },
    {
      "cell_type": "markdown",
      "source": [
        "3. Accept the marked price from the user and calculate the Net amount as (Marked Price - Discount) to pay according to following criteria:\n",
        "\n",
        "[Marked Price:\tDiscount]\n",
        "\n",
        "[>10000:\t20%]\n",
        "\n",
        "[>7000 and <=10000:\t15%]\n",
        "\n",
        "[<=7000:\t10%]"
      ],
      "metadata": {
        "id": "HbV6f4cpLRqR"
      }
    },
    {
      "cell_type": "code",
      "source": [
        "marked_price = float(input(\"Enter the marked price: \"))\n",
        "if marked_price > 10000:\n",
        "    discount_percentage = 20\n",
        "elif marked_price > 7000:\n",
        "    discount_percentage = 15\n",
        "else:\n",
        "    discount_percentage = 10\n",
        "discount = (discount_percentage / 100) * marked_price\n",
        "net_amount = marked_price - discount\n",
        "print(\"Marked Price:\", marked_price)\n",
        "print(\"Discount Percentage:\", discount_percentage, \"%\")\n",
        "print(\"Discount:\", discount)\n",
        "print(\"Net Amount:\", net_amount)"
      ],
      "metadata": {
        "colab": {
          "base_uri": "https://localhost:8080/"
        },
        "id": "ewAh1uJHLSOg",
        "outputId": "47a885d9-287a-4bb7-e95f-c7aa20831cc0"
      },
      "execution_count": 3,
      "outputs": [
        {
          "output_type": "stream",
          "name": "stdout",
          "text": [
            "Enter the marked price: 8000\n",
            "Marked Price: 8000.0\n",
            "Discount Percentage: 15 %\n",
            "Discount: 1200.0\n",
            "Net Amount: 6800.0\n"
          ]
        }
      ]
    }
  ]
}