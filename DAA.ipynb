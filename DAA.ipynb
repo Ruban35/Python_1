{
  "nbformat": 4,
  "nbformat_minor": 0,
  "metadata": {
    "colab": {
      "provenance": [],
      "authorship_tag": "ABX9TyNuSPCKlcgTx2sL7Z8blEJ5",
      "include_colab_link": true
    },
    "kernelspec": {
      "name": "python3",
      "display_name": "Python 3"
    },
    "language_info": {
      "name": "python"
    }
  },
  "cells": [
    {
      "cell_type": "markdown",
      "metadata": {
        "id": "view-in-github",
        "colab_type": "text"
      },
      "source": [
        "<a href=\"https://colab.research.google.com/github/Ruban35/Python_1/blob/main/DAA.ipynb\" target=\"_parent\"><img src=\"https://colab.research.google.com/assets/colab-badge.svg\" alt=\"Open In Colab\"/></a>"
      ]
    },
    {
      "cell_type": "markdown",
      "source": [
        "1. Create a list of first 10 natural numbers. And write a program to find the lists of odd numbers and even numbers separately. And, to find the square of its odd and even lists."
      ],
      "metadata": {
        "id": "8XKHSCQBItfc"
      }
    },
    {
      "cell_type": "code",
      "source": [
        "natural = list(range(1, 11))\n",
        "odd = [num for num in natural if num % 2 != 0]\n",
        "even = [num for num in natural if num % 2 == 0]\n",
        "oddsquare = [num ** 2 for num in odd]\n",
        "evensquare = [num ** 2 for num in even]\n",
        "print(\"List:\", natural)\n",
        "print(\"Odd numbers:\", odd)\n",
        "print(\"Even numbers:\", even)\n",
        "print(\"Squares of odd numbers:\", oddsquare)\n",
        "print(\"Squares of even numbers:\", evensquare)"
      ],
      "metadata": {
        "colab": {
          "base_uri": "https://localhost:8080/"
        },
        "id": "LxKVrLnqI6wf",
        "outputId": "14e61fae-276d-45b6-c5f5-d93beb2331f7"
      },
      "execution_count": 1,
      "outputs": [
        {
          "output_type": "stream",
          "name": "stdout",
          "text": [
            "List: [1, 2, 3, 4, 5, 6, 7, 8, 9, 10]\n",
            "Odd numbers: [1, 3, 5, 7, 9]\n",
            "Even numbers: [2, 4, 6, 8, 10]\n",
            "Squares of odd numbers: [1, 9, 25, 49, 81]\n",
            "Squares of even numbers: [4, 16, 36, 64, 100]\n"
          ]
        }
      ]
    },
    {
      "cell_type": "markdown",
      "source": [
        "2. Write a program to find the largest and smallest number in the list without using the in-built function."
      ],
      "metadata": {
        "id": "5lwpBE4vI9w3"
      }
    },
    {
      "cell_type": "code",
      "source": [
        "numbers = [5, 3, 7, 9, 8, 4, 2]\n",
        "largest = smallest = numbers[0]\n",
        "for num in numbers:\n",
        "    if num > largest:\n",
        "        largest = num\n",
        "    if num < smallest:\n",
        "        smallest = num\n",
        "print(\"List:\", numbers)\n",
        "print(\"Largest number:\", largest)\n",
        "print(\"Smallest number:\", smallest)"
      ],
      "metadata": {
        "colab": {
          "base_uri": "https://localhost:8080/"
        },
        "id": "DmWIosuRJC88",
        "outputId": "80a6a94c-13b1-4361-ff5a-c6085012191f"
      },
      "execution_count": 2,
      "outputs": [
        {
          "output_type": "stream",
          "name": "stdout",
          "text": [
            "List: [5, 3, 7, 9, 8, 4, 2]\n",
            "Largest number: 9\n",
            "Smallest number: 2\n"
          ]
        }
      ]
    },
    {
      "cell_type": "markdown",
      "source": [
        "3. Write a program to find the second largest and second smallest number in the list without using the in-built function."
      ],
      "metadata": {
        "id": "vC7PD0h7JJlg"
      }
    },
    {
      "cell_type": "code",
      "source": [
        "numbers = [5, 3, 7, 9, 8, 4, 2]\n",
        "if len(numbers) < 2:\n",
        "    second_largest = second_smallest = None\n",
        "else:\n",
        "    first_largest = second_largest = float('-inf')\n",
        "    first_smallest = second_smallest = float('inf')\n",
        "    for num in numbers:\n",
        "        if num > first_largest:\n",
        "            second_largest = first_largest\n",
        "            first_largest = num\n",
        "        elif num > second_largest and num != first_largest:\n",
        "            second_largest = num\n",
        "\n",
        "        if num < first_smallest:\n",
        "            second_smallest = first_smallest\n",
        "            first_smallest = num\n",
        "        elif num < second_smallest and num != first_smallest:\n",
        "            second_smallest = num\n",
        "print(\"List:\", numbers)\n",
        "print(\"Second largest number:\", second_largest)\n",
        "print(\"Second smallest number:\", second_smallest)"
      ],
      "metadata": {
        "colab": {
          "base_uri": "https://localhost:8080/"
        },
        "id": "8i2tUozbJL1K",
        "outputId": "fe27dbe1-d970-4d3f-e912-2e9b4cea9dd5"
      },
      "execution_count": 3,
      "outputs": [
        {
          "output_type": "stream",
          "name": "stdout",
          "text": [
            "List: [5, 3, 7, 9, 8, 4, 2]\n",
            "Second largest number: 8\n",
            "Second smallest number: 3\n"
          ]
        }
      ]
    },
    {
      "cell_type": "markdown",
      "source": [
        "4.Write a program to sort elements stored in the list as Ascending order and Descending order without using the in-built function (sort ())."
      ],
      "metadata": {
        "id": "sN_faUjqJUlA"
      }
    },
    {
      "cell_type": "code",
      "source": [
        "numbers = [5, 3, 7, 9, 8, 4, 2]\n",
        "ascending_order = numbers[:]\n",
        "for i in range(len(ascending_order)):\n",
        "    for j in range(i + 1, len(ascending_order)):\n",
        "        if ascending_order[i] > ascending_order[j]:\n",
        "            ascending_order[i], ascending_order[j] = ascending_order[j], ascending_order[i]\n",
        "descending_order = numbers[:]\n",
        "for i in range(len(descending_order)):\n",
        "    for j in range(i + 1, len(descending_order)):\n",
        "        if descending_order[i] < descending_order[j]:\n",
        "            descending_order[i], descending_order[j] = descending_order[j], descending_order[i]\n",
        "print(\"List:\", numbers)\n",
        "print(\"Ascending Order:\", ascending_order)\n",
        "print(\"Descending Order:\", descending_order)\n"
      ],
      "metadata": {
        "colab": {
          "base_uri": "https://localhost:8080/"
        },
        "id": "1hUs1EWVJV6c",
        "outputId": "39d64016-b645-49ef-f242-dd564dd93d58"
      },
      "execution_count": 4,
      "outputs": [
        {
          "output_type": "stream",
          "name": "stdout",
          "text": [
            "List: [5, 3, 7, 9, 8, 4, 2]\n",
            "Ascending Order: [2, 3, 4, 5, 7, 8, 9]\n",
            "Descending Order: [9, 8, 7, 5, 4, 3, 2]\n"
          ]
        }
      ]
    },
    {
      "cell_type": "markdown",
      "source": [
        "5. Find the index position of the specific number stored in the list."
      ],
      "metadata": {
        "id": "QtIiM88JJc2X"
      }
    },
    {
      "cell_type": "code",
      "source": [
        "numbers = [45, 67, 83, 24, 55, 87, 77, 34]\n",
        "print(\"List:\", numbers)\n",
        "target = int(input(\"Enter the target: \"))\n",
        "position = -1\n",
        "for i, num in enumerate(numbers):\n",
        "    if num == target:\n",
        "        position = i\n",
        "        break\n",
        "print(\"Position of\", target, \":\", position)"
      ],
      "metadata": {
        "colab": {
          "base_uri": "https://localhost:8080/"
        },
        "id": "mTMImDG0JhJj",
        "outputId": "14ec21ef-d396-4507-c847-d6167551a318"
      },
      "execution_count": 5,
      "outputs": [
        {
          "output_type": "stream",
          "name": "stdout",
          "text": [
            "List: [45, 67, 83, 24, 55, 87, 77, 34]\n",
            "Enter the target: 55\n",
            "Position of 55 : 4\n"
          ]
        }
      ]
    },
    {
      "cell_type": "markdown",
      "source": [
        "6. Find most frequent element present in a list."
      ],
      "metadata": {
        "id": "IyrA6SSIJkHy"
      }
    },
    {
      "cell_type": "code",
      "source": [
        "a = [4, 5, 6, 4, 6, 7, 4, 2, 4, 8, 4]\n",
        "frequency = {}\n",
        "max_count = -1\n",
        "most_frequent = None\n",
        "for num in a:\n",
        "    if num in frequency:\n",
        "        frequency[num] += 1\n",
        "    else:\n",
        "        frequency[num] = 1\n",
        "    if frequency[num] > max_count:\n",
        "        max_count = frequency[num]\n",
        "        most_frequent = num\n",
        "print(\"List:\", a)\n",
        "print(\"Most frequent element:\", most_frequent)\n"
      ],
      "metadata": {
        "colab": {
          "base_uri": "https://localhost:8080/"
        },
        "id": "yu322yP0JnQ7",
        "outputId": "535402bb-f62e-48f7-cac0-91a8a2880090"
      },
      "execution_count": 6,
      "outputs": [
        {
          "output_type": "stream",
          "name": "stdout",
          "text": [
            "List: [4, 5, 6, 4, 6, 7, 4, 2, 4, 8, 4]\n",
            "Most frequent element: 4\n"
          ]
        }
      ]
    },
    {
      "cell_type": "markdown",
      "source": [
        "7. Below are the two lists. Write a Python program to convert them into a dictionary in a way that item from list1 is the key and item from list2 is the value by using update method ().\n",
        "keys = ['Ten', 'Twenty', 'Thirty']\n",
        "\n",
        "values = [10, 20, 30]"
      ],
      "metadata": {
        "id": "Bl-6jUTHJuWn"
      }
    },
    {
      "cell_type": "code",
      "source": [
        "keys = ['Ten', 'Twenty', 'Thirty']\n",
        "values = [10, 20, 30]\n",
        "dictionary = {}\n",
        "for i in range(len(keys)):\n",
        "    dictionary.update({keys[i]: values[i]})\n",
        "print(\"dictionary:\")\n",
        "print(dictionary)"
      ],
      "metadata": {
        "colab": {
          "base_uri": "https://localhost:8080/"
        },
        "id": "f7aWe8WxJyAz",
        "outputId": "b2b54cee-80a2-46d2-dd10-c7e32e87ef0d"
      },
      "execution_count": 7,
      "outputs": [
        {
          "output_type": "stream",
          "name": "stdout",
          "text": [
            "dictionary:\n",
            "{'Ten': 10, 'Twenty': 20, 'Thirty': 30}\n"
          ]
        }
      ]
    },
    {
      "cell_type": "markdown",
      "source": [
        "8. Create a list of 10 members as a Voter_list. Assume that there are 3 Candidates (A, B & C) are going to contest in the election process. Write a program that voters will cast their votes and predict the Winner and Runner of the election process and to find the members who voted for the Winner and Runner."
      ],
      "metadata": {
        "id": "9_eyEUIoKAbQ"
      }
    },
    {
      "cell_type": "code",
      "source": [
        "voter_list = [\"Voter1\", \"Voter2\", \"Voter3\", \"Voter4\", \"Voter5\", \"Voter6\", \"Voter7\", \"Voter8\", \"Voter9\", \"Voter10\"]\n",
        "candidates = ['A', 'B', 'C']\n",
        "votes = {'A': 0, 'B': 0, 'C': 0}\n",
        "voters_for_candidates = {'A': [], 'B': [], 'C': []}\n",
        "for voter in voter_list:\n",
        "    while True:\n",
        "        vote = input(f\"{voter}, please cast your vote for candidate A, B, or C: \").strip().upper()\n",
        "        if vote in candidates:\n",
        "            votes[vote] += 1\n",
        "            voters_for_candidates[vote].append(voter)\n",
        "            break\n",
        "        else:\n",
        "            print(\"Invalid vote. Please vote for one of the candidates: A, B, or C.\")\n",
        "sorted_votes = sorted(votes.items(), key=lambda item: item[1], reverse=True)\n",
        "winner = sorted_votes[0][0]\n",
        "runner_up = sorted_votes[1][0]\n",
        "print(\"\\nVotes:\", votes)\n",
        "print(\"Winner:\", winner)\n",
        "print(\"Runner-up:\", runner_up)\n",
        "print(\"Voters for the winner:\", voters_for_candidates[winner])\n",
        "print(\"Voters for the runner-up:\", voters_for_candidates[runner_up])"
      ],
      "metadata": {
        "colab": {
          "base_uri": "https://localhost:8080/"
        },
        "id": "MZb4CoI4KBmW",
        "outputId": "f71a1a0d-767d-40fb-e46b-280471558b52"
      },
      "execution_count": 9,
      "outputs": [
        {
          "output_type": "stream",
          "name": "stdout",
          "text": [
            "Voter1, please cast your vote for candidate A, B, or C: A\n",
            "Voter2, please cast your vote for candidate A, B, or C: B\n",
            "Voter3, please cast your vote for candidate A, B, or C: C\n",
            "Voter4, please cast your vote for candidate A, B, or C: A\n",
            "Voter5, please cast your vote for candidate A, B, or C: C\n",
            "Voter6, please cast your vote for candidate A, B, or C: C\n",
            "Voter7, please cast your vote for candidate A, B, or C: A\n",
            "Voter8, please cast your vote for candidate A, B, or C: C\n",
            "Voter9, please cast your vote for candidate A, B, or C: B\n",
            "Voter10, please cast your vote for candidate A, B, or C: B\n",
            "\n",
            "Votes: {'A': 3, 'B': 3, 'C': 4}\n",
            "Winner: C\n",
            "Runner-up: A\n",
            "Voters for the winner: ['Voter3', 'Voter5', 'Voter6', 'Voter8']\n",
            "Voters for the runner-up: ['Voter1', 'Voter4', 'Voter7']\n"
          ]
        }
      ]
    }
  ]
}