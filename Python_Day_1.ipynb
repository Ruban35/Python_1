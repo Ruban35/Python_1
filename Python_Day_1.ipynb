{
  "nbformat": 4,
  "nbformat_minor": 0,
  "metadata": {
    "colab": {
      "provenance": [],
      "authorship_tag": "ABX9TyP46EWwp8B1ozYVVj8BYPrg",
      "include_colab_link": true
    },
    "kernelspec": {
      "name": "python3",
      "display_name": "Python 3"
    },
    "language_info": {
      "name": "python"
    }
  },
  "cells": [
    {
      "cell_type": "markdown",
      "metadata": {
        "id": "view-in-github",
        "colab_type": "text"
      },
      "source": [
        "<a href=\"https://colab.research.google.com/github/Ruban35/Python_1/blob/main/Python_Day_1.ipynb\" target=\"_parent\"><img src=\"https://colab.research.google.com/assets/colab-badge.svg\" alt=\"Open In Colab\"/></a>"
      ]
    },
    {
      "cell_type": "markdown",
      "source": [
        "1. Write a program to create a new string made of an input string’s first, middle, and last character."
      ],
      "metadata": {
        "id": "hzaKU1v1H9UZ"
      }
    },
    {
      "cell_type": "code",
      "execution_count": null,
      "metadata": {
        "colab": {
          "base_uri": "https://localhost:8080/"
        },
        "id": "ER4Cgh1gMUta",
        "outputId": "9193e4c6-e80b-440c-ff95-ad0441627fd9"
      },
      "outputs": [
        {
          "output_type": "stream",
          "name": "stdout",
          "text": [
            "Enter a string: PRADEEP\n",
            "New string: ADE\n"
          ]
        }
      ],
      "source": [
        "input_string = input(\"Enter a string: \")\n",
        "if len(input_string) >= 3:\n",
        "    middle_index = len(input_string) // 2\n",
        "    middle_characters = input_string[middle_index - 1:middle_index + 2]\n",
        "    print(\"New string:\", middle_characters)\n",
        "else:\n",
        "    print(\"Input string is too short.\")"
      ]
    },
    {
      "cell_type": "markdown",
      "source": [
        "2. Write a program to create a new string made of the middle three characters of an input string."
      ],
      "metadata": {
        "id": "8XAwAbpfIGvZ"
      }
    },
    {
      "cell_type": "code",
      "source": [
        "input_string = input(\"Enter a string: \")\n",
        "if len(input_string) > 0:\n",
        "    first_char = input_string[0]\n",
        "    last_char = input_string[-1]\n",
        "    middle_index = len(input_string) // 2\n",
        "    middle_char = input_string[middle_index]\n",
        "    output_string = first_char + middle_char + last_char\n",
        "    print(\"New string:\", output_string)\n",
        "else:\n",
        "    print(\"Input string is empty.\")"
      ],
      "metadata": {
        "colab": {
          "base_uri": "https://localhost:8080/"
        },
        "id": "d6bMAUk-NFQ4",
        "outputId": "1d8c691f-bc74-4ca5-dba1-21efa4d6f202"
      },
      "execution_count": null,
      "outputs": [
        {
          "output_type": "stream",
          "name": "stdout",
          "text": [
            "Enter a string: PRADEEP\n",
            "New string: PDP\n"
          ]
        }
      ]
    },
    {
      "cell_type": "markdown",
      "source": [
        "3. Given two strings, str1 and str2. Write a program to create a new string str3 by appending str2 in the middle of str1."
      ],
      "metadata": {
        "id": "OlcY7ThBIN_I"
      }
    },
    {
      "cell_type": "code",
      "source": [
        "input_string1 = input(\"Enter string1: \")\n",
        "input_string2 = input(\"Enter string2: \")\n",
        "middle_index = len(input_string2) // 2\n",
        "output_string = input_string2[:middle_index] + input_string1 + input_string2[middle_index:]\n",
        "print(\"New string:\", output_string)"
      ],
      "metadata": {
        "colab": {
          "base_uri": "https://localhost:8080/"
        },
        "id": "TNo9APAfNKgv",
        "outputId": "bc66a487-47c7-4621-bdee-1cbe5f1fc8d9"
      },
      "execution_count": null,
      "outputs": [
        {
          "output_type": "stream",
          "name": "stdout",
          "text": [
            "Enter string1: SUPER\n",
            "Enter string2: STAR\n",
            "New string: STSUPERAR\n"
          ]
        }
      ]
    },
    {
      "cell_type": "markdown",
      "source": [
        "4. Count all letters, digits, and special symbols from a given string.\n",
        "str1 = \"P@#yn26at^&i5ve\""
      ],
      "metadata": {
        "id": "7Oe2zbsnIdBI"
      }
    },
    {
      "cell_type": "code",
      "source": [
        "input_string = input(\"Enter the string: \")\n",
        "char_count = 0\n",
        "digit_count = 0\n",
        "symbol_count = 0\n",
        "for char in input_string:\n",
        "    if char.isalpha():\n",
        "        char_count += 1\n",
        "    elif char.isdigit():\n",
        "        digit_count += 1\n",
        "    else:\n",
        "        symbol_count += 1\n",
        "print(\"Characters:\", char_count)\n",
        "print(\"Digits:\", digit_count)\n",
        "print(\"Symbols:\", symbol_count)"
      ],
      "metadata": {
        "colab": {
          "base_uri": "https://localhost:8080/"
        },
        "id": "LExdg_zUNMcP",
        "outputId": "9d0d5839-4090-4856-ae70-af6662788a4e"
      },
      "execution_count": null,
      "outputs": [
        {
          "output_type": "stream",
          "name": "stdout",
          "text": [
            "Enter the string: P@#yn26at^&i5ve\n",
            "Characters: 8\n",
            "Digits: 3\n",
            "Symbols: 4\n"
          ]
        }
      ]
    },
    {
      "cell_type": "markdown",
      "source": [
        "5. Given two strings, s1 and s2. Write a program to create a new string s3 made of the first char of s1, then the last char of s2, Next, the second char of s1 and second last char of s2, and so on. Any leftover chars go at the end of the result."
      ],
      "metadata": {
        "id": "2Jm-dpJwIj0M"
      }
    },
    {
      "cell_type": "code",
      "source": [
        "input_string1 = input(\"Enter string1: \")\n",
        "input_string2 = input(\"Enter string2: \")\n",
        "result_string = \"\"\n",
        "max_length = max(len(input_string1), len(input_string2))\n",
        "for i in range(max_length):\n",
        "    if i < len(input_string1):\n",
        "        result_string += input_string1[i]\n",
        "    if i < len(input_string2):\n",
        "        result_string += input_string2[-(i + 1)]\n",
        "print(\"New string:\", result_string)\n"
      ],
      "metadata": {
        "colab": {
          "base_uri": "https://localhost:8080/"
        },
        "id": "mz2kfBcTIop2",
        "outputId": "0218531a-c9a4-41b3-a082-c87451302fb0"
      },
      "execution_count": null,
      "outputs": [
        {
          "output_type": "stream",
          "name": "stdout",
          "text": [
            "Enter string1: Abc\n",
            "Enter string2: Xyz\n",
            "New string: AzbycX\n"
          ]
        }
      ]
    },
    {
      "cell_type": "markdown",
      "source": [
        "6. Accept the marked price from the user and calculate the Net amount as (Marked Price - Discount) to pay according to following criteria: Marked Price Discount\n",
        "\n",
        "10000 20% 7000 and <=10000 15% <=7000 10%"
      ],
      "metadata": {
        "id": "2K1KmYiwMQNn"
      }
    },
    {
      "cell_type": "code",
      "source": [
        "marked_price = float(input(\"Enter the marked price: \\n\"))\n",
        "if marked_price > 10000:\n",
        "    discount = 0.20\n",
        "elif marked_price > 7000:\n",
        "    discount = 0.15\n",
        "else:\n",
        "    discount = 0.10\n",
        "net_amount = marked_price - (discount * marked_price)\n",
        "print(f\"The net amount to pay after discount is: {net_amount:.2f}\")"
      ],
      "metadata": {
        "id": "dXZq4PMMMVhg",
        "outputId": "5022407f-4bcd-45cb-eae0-b21f1101ef0e",
        "colab": {
          "base_uri": "https://localhost:8080/"
        }
      },
      "execution_count": 1,
      "outputs": [
        {
          "output_type": "stream",
          "name": "stdout",
          "text": [
            "Enter the marked price: \n",
            "5000\n",
            "The net amount to pay after discount is: 4500.00\n"
          ]
        }
      ]
    },
    {
      "cell_type": "markdown",
      "source": [
        "7. Write a program to calculate the electricity bill (accept number of units from user) according to the following criteria: Units Price First 100 units No charge Next 100 units Rs.5 per unit After 200 units Rs.10 per unit (For example, if input unit is 350, then the total bill amount is Rs.2000)"
      ],
      "metadata": {
        "id": "A4gY9jxMMYyP"
      }
    },
    {
      "cell_type": "code",
      "source": [
        "units = int(input(\"Enter the number of units: \"))\n",
        "if units <= 100:\n",
        "    bill = 0\n",
        "elif units <= 200:\n",
        "    bill = (units - 100) * 5\n",
        "else:\n",
        "    bill = (100 * 5) + (units - 200) * 10\n",
        "\n",
        "print(f\"The total electricity bill is: Rs.{bill}\")"
      ],
      "metadata": {
        "id": "UDE3XmPPMkCD",
        "outputId": "e7b61385-029d-4fbd-dd91-eb09dd8f9a93",
        "colab": {
          "base_uri": "https://localhost:8080/"
        }
      },
      "execution_count": 2,
      "outputs": [
        {
          "output_type": "stream",
          "name": "stdout",
          "text": [
            "Enter the number of units: 150\n",
            "The total electricity bill is: Rs.250\n"
          ]
        }
      ]
    },
    {
      "cell_type": "markdown",
      "source": [
        "8. Write a program to calculate Employee’s bonus calculation for the details given below Experience Bonus (%) More than 8 years 10 % More than 4 years 7% More than 2 years 4%"
      ],
      "metadata": {
        "id": "BqEDj-X_MuDt"
      }
    },
    {
      "cell_type": "code",
      "source": [
        "years_of_experience = float(input(\"Enter the employee's years of experience: \\n\"))\n",
        "salary = float(input(\"Enter the employee's salary: \\n\"))\n",
        "\n",
        "if years_of_experience > 8:\n",
        "    bonus_percentage = 10\n",
        "elif years_of_experience > 4:\n",
        "    bonus_percentage = 7\n",
        "elif years_of_experience > 2:\n",
        "    bonus_percentage = 4\n",
        "else:\n",
        "    bonus_percentage = 0\n",
        "\n",
        "bonus_amount = (bonus_percentage / 100) * salary\n",
        "print(f\"The employee's bonus is: {bonus_amount:.2f}\")"
      ],
      "metadata": {
        "id": "6b-KDTkLMw2F",
        "outputId": "17754585-7dbe-4db3-eee8-dc90d16c7231",
        "colab": {
          "base_uri": "https://localhost:8080/"
        }
      },
      "execution_count": 4,
      "outputs": [
        {
          "output_type": "stream",
          "name": "stdout",
          "text": [
            "Enter the employee's years of experience: \n",
            "10\n",
            "Enter the employee's salary: \n",
            "45000\n",
            "The employee's bonus is: 4500.00\n"
          ]
        }
      ]
    }
  ]
}